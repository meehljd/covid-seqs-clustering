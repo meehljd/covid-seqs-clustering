{
 "cells": [
  {
   "cell_type": "markdown",
   "metadata": {
    "pycharm": {
     "name": "#%% md\n"
    }
   },
   "source": [
    "# Problem:\n",
    "\n",
    "Cluster a multi-sequence alignment (MSA) of 400 Covid-19 sequences.  \n",
    "\n",
    "The goal is to identify the different strains of Covid-19.\n",
    "\n",
    "To see a full write-up of the analysis and results, visit the project page on [www.meehl.org](www.meehl.org)\n",
    "\n",
    "# Data:\n",
    "\n",
    "The data is a FASTA file containing 400 Covid-19 sequences.  The sequences are in the following format:\n",
    "\n",
    "```fasta\n",
    ">sequence00000\n",
    "TGTGTGGCTGTCA...\n",
    ">sequence00000\n",
    "TGTGTGGCTGTCA...\n",
    "...\n",
    ">sequence00399\n",
    "TGTGTGGCTGTCA...\n",
    "```\n",
    "\n",
    "## Additional Information:\n",
    "* The data for each sample in the fasta consists of two lines; a header line with the sequence name followed by a line that contains a modified MSA sequence\n",
    "* A “.” in the MSA indicates that no change is detected in that location between all the sequences\n",
    "* Each location in the sequence can be either a A,T,G,C,N, and -\n",
    "* A,T,G,C are unique detectable result at each location in the sample \n",
    "* A “N” indicates it could not be determined if it was a A,T,G,C at that location in that sample\n",
    "* A “-“ indicates that nothing was detected at that location in that sample \n",
    "\n",
    "\n",
    "\n",
    "# Approach:\n",
    "For this exercise, I will not research current best methods.  Instead I will challenge myself to \n",
    "develope a procedure using only my current knowledge of clustering and dimensionality reduction.\n",
    "\n",
    "To challenge myself, I'll avoid libraries like `Biopython` that are specifically designed for bioinformatics.  Instead I will use raw python and `numpy` to manipulate sequences.  For the linear algebra of the clustering techniques, I will use solely `numpy` and only use `sklearn` for some convenience functions.\n",
    "\n",
    "## Similarity Measure\n",
    "The first step in clustering will be to generate a similarity data structure from the sequence data.  I will use the Hamming distance as the distance metric.  The Hamming distance is the number of positions at which the corresponding symbols are different.  This is a good distance metric for sequences since it works with discrete categorical data.\n",
    "\n",
    "The Hamming distance between the sequences can be used to create a neighborhood graph of the sequences.  This neighborhood graph will heavily weight more similar sequences.  This gives us a good sense of the local structure of the data.  We will represent the graph as an adjacency matrix.\n",
    "\n",
    "## Clustering Algorithms\n",
    "The next step is to cluster the graph.  I have two ideas for this, using different perspectives.\n",
    "\n",
    "The first perspective is to use linear algebra to find a low dimensional representation.  I will first convert the similarity matrix into a Laplacian matrix, which allows use to have at least one eigenvalue equal to zero.  We can then use a clustering algorithm like $k$-means on this low-dimensional representation.  This approach is called spectral clustering.\n",
    "\n",
    "The second perspective is to treat the neighborhood graph as a low dimensional manifold in high-dimensional space.  I will calculate the geodesic distance from the similarity matrix.   I will then use a manifold learning algorithm like ISOMAP to calculate a low-dimensional representation that preserves the geodesic distances.  Then a clustering algorithm like $k$-means can then be used to find the clusters.\n",
    "\n",
    "For the clustering algorithm, I will use $k$-means.  I will also implement my own version of $k$-means to challenge myself.\n",
    "\n",
    "# Contents\n",
    "\n",
    "My analysis is broken into the following notebooks:\n",
    "\n",
    "1. [Data Cleaning](01_data_cleaning.ipynb)\n",
    "2. [Spectral Clustering](02_spectral_clustering.ipynb)\n",
    "3. [My Implementation of $k$-means](03_spectrial_with_my_kmeans.ipynb)\n",
    "4. [Alternate Method: ISOMAP](04_isomap_clustering.ipynb)\n"
   ]
  },
  {
   "cell_type": "markdown",
   "metadata": {},
   "source": []
  }
 ],
 "metadata": {
  "kernelspec": {
   "display_name": "Python 3",
   "language": "python",
   "name": "python3"
  },
  "language_info": {
   "codemirror_mode": {
    "name": "ipython",
    "version": 3
   },
   "file_extension": ".py",
   "mimetype": "text/x-python",
   "name": "python",
   "nbconvert_exporter": "python",
   "pygments_lexer": "ipython3",
   "version": "3.10.9"
  }
 },
 "nbformat": 4,
 "nbformat_minor": 1
}
