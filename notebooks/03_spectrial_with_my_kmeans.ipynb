{
 "cells": [
  {
   "cell_type": "markdown",
   "metadata": {},
   "source": [
    "# 3. My implementation of k-means.\n",
    "\n",
    "Refer to `utils/kmeans.py` for my implementation of the algorithm."
   ]
  },
  {
   "cell_type": "markdown",
   "metadata": {},
   "source": [
    "Import Packages"
   ]
  },
  {
   "cell_type": "code",
   "execution_count": 1,
   "metadata": {},
   "outputs": [],
   "source": [
    "import sys\n",
    "\n",
    "sys.path.append(\"..\")\n",
    "\n",
    "import numpy as np\n",
    "from utils import my_kmeans as jm_km\n",
    "from utils.utils import elbow_diagram"
   ]
  },
  {
   "cell_type": "markdown",
   "metadata": {},
   "source": [
    "Load data"
   ]
  },
  {
   "cell_type": "code",
   "execution_count": 2,
   "metadata": {},
   "outputs": [],
   "source": [
    "x_sort = np.load(\"../data/x_sort.npy\")"
   ]
  },
  {
   "cell_type": "markdown",
   "metadata": {},
   "source": [
    "Load my `KMeans` class and execute."
   ]
  },
  {
   "cell_type": "code",
   "execution_count": 3,
   "metadata": {
    "pycharm": {
     "name": "#%%\n"
    }
   },
   "outputs": [],
   "source": [
    "def run_my_kmeans(k, v, n_dim, n_init=10):\n",
    "    v_k = v[:, :n_dim]\n",
    "    km = jm_km.my_kmeans(n_init=n_init, seed=None)\n",
    "    km.fit(v_k, k=k)\n",
    "    return km"
   ]
  },
  {
   "cell_type": "markdown",
   "metadata": {},
   "source": [
    "Call my `k-means` over a range of $k$ values and plot Elbow Diagram."
   ]
  },
  {
   "cell_type": "code",
   "execution_count": 4,
   "metadata": {
    "pycharm": {
     "name": "#%%\n"
    }
   },
   "outputs": [
    {
     "name": "stdout",
     "output_type": "stream",
     "text": [
      "missing cluster 2\n",
      "missing cluster 0\n",
      "missing cluster 1\n"
     ]
    },
    {
     "data": {
      "image/png": "[encoded data removed]",
      "text/plain": [
       "<Figure size 400x300 with 1 Axes>"
      ]
     },
     "metadata": {},
     "output_type": "display_data"
    }
   ],
   "source": [
    "k_min = 1  # 0-index\n",
    "k_max = 8\n",
    "n_dim = 5\n",
    "norm_inertia = [\n",
    "    run_my_kmeans(k, x_sort, n_dim, n_init=25).best_wcss for k in range(k_min, k_max)\n",
    "]\n",
    "ct = [*range(k_min, k_max)]\n",
    "elbow_diagram(norm_inertia, ct)"
   ]
  },
  {
   "cell_type": "markdown",
   "metadata": {},
   "source": [
    "## Conclusion\n",
    "\n",
    "The results here align nicely with the `sklearn kmeans` algorithm.  Primary differences are due to centroid initialization and can be minimized by increasing `n_init`.\n"
   ]
  }
 ],
 "metadata": {
  "kernelspec": {
   "display_name": "Python 3",
   "language": "python",
   "name": "python3"
  },
  "language_info": {
   "codemirror_mode": {
    "name": "ipython",
    "version": 3
   },
   "file_extension": ".py",
   "mimetype": "text/x-python",
   "name": "python",
   "nbconvert_exporter": "python",
   "pygments_lexer": "ipython3",
   "version": "3.10.9"
  }
 },
 "nbformat": 4,
 "nbformat_minor": 1
}
